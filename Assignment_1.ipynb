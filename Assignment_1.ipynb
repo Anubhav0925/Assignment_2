{
 "cells": [
  {
   "cell_type": "markdown",
   "id": "d77de8a9-7235-4a90-8d3a-284ab749a524",
   "metadata": {},
   "source": [
    "\"\"\" Q1 : Explain with an example each when to use a for loop and a while loop.\"\"\"\n",
    "\"\"\" Answere :- For Loop: A for loop is an iteration method thatis best used when you know the number of iterations\n",
    "           ahead of time. It’s alwaysfollowed by the initialization, expression and increment statements.\"\"\""
   ]
  },
  {
   "cell_type": "code",
   "execution_count": 1,
   "id": "a186ebec-7103-45bd-8103-4167897a6f0f",
   "metadata": {},
   "outputs": [
    {
     "name": "stdout",
     "output_type": "stream",
     "text": [
      "Example of for loop\n",
      "b\n",
      "a\n",
      "n\n",
      "a\n",
      "n\n",
      "a\n"
     ]
    }
   ],
   "source": [
    "print(\"Example of for loop\")\n",
    "for x in \"banana\":\n",
    "  print(x)"
   ]
  },
  {
   "cell_type": "markdown",
   "id": "959e771c-9b26-4674-91dc-44ca11b11530",
   "metadata": {},
   "source": [
    "While Loop: A while loop is an iteration method that is best used when you don't know the number of iterations                 ahead of time. The contents of the loop are executed as long as the expression evaluates to true."
   ]
  },
  {
   "cell_type": "code",
   "execution_count": 2,
   "id": "b30e2aa1-3468-4311-8ce5-f65b8f766a43",
   "metadata": {},
   "outputs": [
    {
     "name": "stdout",
     "output_type": "stream",
     "text": [
      "Eaxmple of while loop\n",
      "1\n",
      "2\n",
      "3\n",
      "4\n",
      "5\n"
     ]
    }
   ],
   "source": [
    "print(\"Eaxmple of while loop\")\n",
    "i = 1\n",
    "while i < 6:\n",
    "  print(i)\n",
    "  i += 1"
   ]
  },
  {
   "cell_type": "markdown",
   "id": "27a58204-8b71-4ea8-b906-608f6ed53285",
   "metadata": {},
   "source": [
    "\"\"\"Q2. Write a python program to print the sum and product of the first 10 natural numbers using for\n",
    "and while loop.\"\"\""
   ]
  },
  {
   "cell_type": "code",
   "execution_count": null,
   "id": "a4c7a4ce-071c-465c-9a86-c12b3a1e8573",
   "metadata": {},
   "outputs": [],
   "source": [
    "# Program with for loop\n",
    "num = int(input(\"Enter the range of natural number: \"))\n",
    "Sum =0\n",
    "Product = 1\n",
    "for i in range(1,num+1):\n",
    "  Sum = Sum + i\n",
    "  Product = Product * i\n",
    "print(\"The sum of first \",num,\"numbers is \",Sum)\n",
    "print(\"The product of first\",num,\"numbers is \",Product)\n"
   ]
  },
  {
   "cell_type": "code",
   "execution_count": null,
   "id": "d507d405-da81-4dd6-b435-4126aeed4013",
   "metadata": {},
   "outputs": [],
   "source": [
    "# Program with while loop\n",
    "num = int(input(\"Enter the range of natural number: \"))\n",
    "Sum =0\n",
    "Product = 1\n",
    "i = 1\n",
    "while i<num+1:\n",
    "  Sum = Sum + i\n",
    "  Product = Product * i\n",
    "  i = i+1\n",
    "print(\"The sum of first \",num,\"numbers is \",Sum)\n",
    "print(\"The product of first\",num,\"numbers is \",Product)"
   ]
  },
  {
   "cell_type": "markdown",
   "id": "5cc83a90-ab62-44b9-85f0-255dc8cb60db",
   "metadata": {},
   "source": [
    "\"\"\"Q3. Create a python program to compute the electricity bill for a household.The per-unit charges in rupees are as follows: For the first 100 units, the user will be charged Rs. 4.5 per\n",
    "unit, for the next 100 units, the user will be charged Rs. 6 per unit, and for the next 100 units, the user willbe charged Rs. 10 per unit, After 300 units and above the user will be charged Rs. 20 per unit.\n",
    "You are required to take the units of electricity consumed in a month from the user as input.Your program must pass this test case: when the unit of electricity consumed by the user in a month is\n",
    "310, the total electricity bill should be 2250.\"\"\""
   ]
  },
  {
   "cell_type": "code",
   "execution_count": 4,
   "id": "f2a54fe9-dabd-4213-a215-16014e3a752a",
   "metadata": {},
   "outputs": [
    {
     "name": "stdin",
     "output_type": "stream",
     "text": [
      "Enter the Unit of Electricity:  310\n"
     ]
    },
    {
     "name": "stdout",
     "output_type": "stream",
     "text": [
      "Electricity Bill of  310 is equal to  2250.0\n"
     ]
    }
   ],
   "source": [
    "Units = int(input(\"Enter the Unit of Electricity: \"))\n",
    "if Units<=100:\n",
    "    Electricity_Bill = Units*4.5\n",
    "elif 100<Units<=200:\n",
    "    Unit_1 = Units-100\n",
    "    Electricity_Bill = Unit_1*6+ 100*4.5\n",
    "elif 200<Units<=300:\n",
    "  Unit_2 = Units-200\n",
    "  Electricity_Bill = Unit_2*10 + 100*6 +100*4.5\n",
    "else:\n",
    "  Unit_3 = Units-300\n",
    "  Electricity_Bill = Unit_3*20 + 100*6 +100*4.5 +100*10\n",
    "print(\"Electricity Bill of \",Units,\"is equal to \",Electricity_Bill)"
   ]
  },
  {
   "cell_type": "markdown",
   "id": "ed10cbb2-214e-48ff-a34d-3ba0e85c0d2e",
   "metadata": {},
   "source": [
    "\"\"\"Q4. Create a list of numbers from 1 to 100. Use for loop and while loop to calculate the cube of each\n",
    "number and if the cube of that number is divisible by 4 or 5 then append that number in a list and print\n",
    "that list.\"\"\""
   ]
  },
  {
   "cell_type": "code",
   "execution_count": 5,
   "id": "bf1d526f-4a18-4706-961e-3974fbfc7f3b",
   "metadata": {},
   "outputs": [
    {
     "name": "stdout",
     "output_type": "stream",
     "text": [
      "List of 1 to 100 numbers [1, 2, 3, 4, 5, 6, 7, 8, 9, 10, 11, 12, 13, 14, 15, 16, 17, 18, 19, 20, 21, 22, 23, 24, 25, 26, 27, 28, 29, 30, 31, 32, 33, 34, 35, 36, 37, 38, 39, 40, 41, 42, 43, 44, 45, 46, 47, 48, 49, 50, 51, 52, 53, 54, 55, 56, 57, 58, 59, 60, 61, 62, 63, 64, 65, 66, 67, 68, 69, 70, 71, 72, 73, 74, 75, 76, 77, 78, 79, 80, 81, 82, 83, 84, 85, 86, 87, 88, 89, 90, 91, 92, 93, 94, 95, 96, 97, 98, 99]\n",
      "Cube of each number from 1 to 100\n",
      "1\n",
      "8\n",
      "27\n",
      "64\n",
      "125\n",
      "216\n",
      "343\n",
      "512\n",
      "729\n",
      "1000\n",
      "1331\n",
      "1728\n",
      "2197\n",
      "2744\n",
      "3375\n",
      "4096\n",
      "4913\n",
      "5832\n",
      "6859\n",
      "8000\n",
      "9261\n",
      "10648\n",
      "12167\n",
      "13824\n",
      "15625\n",
      "17576\n",
      "19683\n",
      "21952\n",
      "24389\n",
      "27000\n",
      "29791\n",
      "32768\n",
      "35937\n",
      "39304\n",
      "42875\n",
      "46656\n",
      "50653\n",
      "54872\n",
      "59319\n",
      "64000\n",
      "68921\n",
      "74088\n",
      "79507\n",
      "85184\n",
      "91125\n",
      "97336\n",
      "103823\n",
      "110592\n",
      "117649\n",
      "125000\n",
      "132651\n",
      "140608\n",
      "148877\n",
      "157464\n",
      "166375\n",
      "175616\n",
      "185193\n",
      "195112\n",
      "205379\n",
      "216000\n",
      "226981\n",
      "238328\n",
      "250047\n",
      "262144\n",
      "274625\n",
      "287496\n",
      "300763\n",
      "314432\n",
      "328509\n",
      "343000\n",
      "357911\n",
      "373248\n",
      "389017\n",
      "405224\n",
      "421875\n",
      "438976\n",
      "456533\n",
      "474552\n",
      "493039\n",
      "512000\n",
      "531441\n",
      "551368\n",
      "571787\n",
      "592704\n",
      "614125\n",
      "636056\n",
      "658503\n",
      "681472\n",
      "704969\n",
      "729000\n",
      "753571\n",
      "778688\n",
      "804357\n",
      "830584\n",
      "857375\n",
      "884736\n",
      "912673\n",
      "941192\n",
      "970299\n",
      "[2, 4, 5, 6, 8, 10, 12, 14, 15, 16, 18, 20, 22, 24, 25, 26, 28, 30, 32, 34, 35, 36, 38, 40, 42, 44, 45, 46, 48, 50, 52, 54, 55, 56, 58, 60, 62, 64, 65, 66, 68, 70, 72, 74, 75, 76, 78, 80, 82, 84, 85, 86, 88, 90, 92, 94, 95, 96, 98]\n"
     ]
    }
   ],
   "source": [
    "l1 = list(range(1,100))\n",
    "print(\"List of 1 to 100 numbers\",l1)\n",
    "l2 =[]\n",
    "print(\"Cube of each number from 1 to 100\")\n",
    "for i in (l1):\n",
    "  cube = i*i*i\n",
    "  print(cube)\n",
    "  if (cube%4 ==0) or (cube%5 ==0):\n",
    "    l2.append(i)\n",
    "print(l2)"
   ]
  },
  {
   "cell_type": "markdown",
   "id": "580a7526-8eae-48d8-85ef-b94dc29f2842",
   "metadata": {},
   "source": [
    "\"\"\"Q5. Write a program to filter count vowels in the below-given string.\n",
    "string = \"I want to become a data scientist\"\"\""
   ]
  },
  {
   "cell_type": "code",
   "execution_count": 6,
   "id": "cf5f8b36-423f-4474-aaa0-2d7377a0ea79",
   "metadata": {},
   "outputs": [
    {
     "name": "stdout",
     "output_type": "stream",
     "text": [
      "i want to become a data scientist\n",
      "Number of vowels in the given string: 12\n"
     ]
    }
   ],
   "source": [
    "str = \"I want to become a data scientist\"\n",
    "s = str.lower()\n",
    "print(s)\n",
    "vowels = ['a', 'e', 'i', 'o', 'u']\n",
    "count = 0\n",
    "for vowel in vowels:\n",
    "    for char in s:\n",
    "        if char == vowel:\n",
    "            count += 1\n",
    "\n",
    "# Print the count of vowels\n",
    "print(\"Number of vowels in the given string:\", count)"
   ]
  },
  {
   "cell_type": "code",
   "execution_count": null,
   "id": "fd4373e6-1706-41c3-9adb-ae7625a48a76",
   "metadata": {},
   "outputs": [],
   "source": []
  }
 ],
 "metadata": {
  "kernelspec": {
   "display_name": "Python 3 (ipykernel)",
   "language": "python",
   "name": "python3"
  },
  "language_info": {
   "codemirror_mode": {
    "name": "ipython",
    "version": 3
   },
   "file_extension": ".py",
   "mimetype": "text/x-python",
   "name": "python",
   "nbconvert_exporter": "python",
   "pygments_lexer": "ipython3",
   "version": "3.10.8"
  }
 },
 "nbformat": 4,
 "nbformat_minor": 5
}
